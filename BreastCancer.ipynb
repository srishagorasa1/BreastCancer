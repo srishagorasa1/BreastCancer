{
  "nbformat": 4,
  "nbformat_minor": 0,
  "metadata": {
    "colab": {
      "name": "BreastCancer.ipynb",
      "provenance": [],
      "collapsed_sections": [],
      "authorship_tag": "ABX9TyPQtqHfTYzXKiYbzsQsbXBN",
      "include_colab_link": true
    },
    "kernelspec": {
      "name": "python3",
      "display_name": "Python 3"
    },
    "language_info": {
      "name": "python"
    }
  },
  "cells": [
    {
      "cell_type": "markdown",
      "metadata": {
        "id": "view-in-github",
        "colab_type": "text"
      },
      "source": [
        "<a href=\"https://colab.research.google.com/github/srishagorasa1/BreastCancer/blob/main/BreastCancer.ipynb\" target=\"_parent\"><img src=\"https://colab.research.google.com/assets/colab-badge.svg\" alt=\"Open In Colab\"/></a>"
      ]
    },
    {
      "cell_type": "markdown",
      "metadata": {
        "id": "Z1Vo9UI2EL-r"
      },
      "source": [
        "# **Deep Learning Project: Breast cancer detection**\n",
        "\n",
        "**Step 1: Installation and Setup**"
      ]
    },
    {
      "cell_type": "code",
      "metadata": {
        "id": "ksj1CP89EEg-"
      },
      "source": [
        "import tensorflow as tf"
      ],
      "execution_count": 1,
      "outputs": []
    },
    {
      "cell_type": "code",
      "metadata": {
        "colab": {
          "base_uri": "https://localhost:8080/"
        },
        "id": "RTNMuxPnElwY",
        "outputId": "2c1b969c-8658-40cd-d6f3-d05faabf7ba6"
      },
      "source": [
        "print(tf.__version__)"
      ],
      "execution_count": 2,
      "outputs": [
        {
          "output_type": "stream",
          "text": [
            "2.4.1\n"
          ],
          "name": "stdout"
        }
      ]
    },
    {
      "cell_type": "code",
      "metadata": {
        "id": "KYbkPnyREmI4"
      },
      "source": [
        "import numpy as np\n",
        "import pandas as pd\n",
        "import matplotlib.pyplot as plt"
      ],
      "execution_count": 3,
      "outputs": []
    },
    {
      "cell_type": "markdown",
      "metadata": {
        "id": "xQhI4u4lEgqC"
      },
      "source": [
        "**Step 2: Data Preprocessing**"
      ]
    },
    {
      "cell_type": "code",
      "metadata": {
        "id": "P74On5qVFsBp"
      },
      "source": [
        "from sklearn import datasets, metrics"
      ],
      "execution_count": 4,
      "outputs": []
    },
    {
      "cell_type": "code",
      "metadata": {
        "id": "8ljRo_vAFxa6"
      },
      "source": [
        "# import the dataset\n",
        "cancer = datasets.load_breast_cancer()"
      ],
      "execution_count": 5,
      "outputs": []
    },
    {
      "cell_type": "code",
      "metadata": {
        "colab": {
          "base_uri": "https://localhost:8080/"
        },
        "id": "gf2077fCF1ao",
        "outputId": "7d53155e-d945-4f73-849b-ee61df5fbec3"
      },
      "source": [
        "print(cancer.DESCR)"
      ],
      "execution_count": 6,
      "outputs": [
        {
          "output_type": "stream",
          "text": [
            ".. _breast_cancer_dataset:\n",
            "\n",
            "Breast cancer wisconsin (diagnostic) dataset\n",
            "--------------------------------------------\n",
            "\n",
            "**Data Set Characteristics:**\n",
            "\n",
            "    :Number of Instances: 569\n",
            "\n",
            "    :Number of Attributes: 30 numeric, predictive attributes and the class\n",
            "\n",
            "    :Attribute Information:\n",
            "        - radius (mean of distances from center to points on the perimeter)\n",
            "        - texture (standard deviation of gray-scale values)\n",
            "        - perimeter\n",
            "        - area\n",
            "        - smoothness (local variation in radius lengths)\n",
            "        - compactness (perimeter^2 / area - 1.0)\n",
            "        - concavity (severity of concave portions of the contour)\n",
            "        - concave points (number of concave portions of the contour)\n",
            "        - symmetry \n",
            "        - fractal dimension (\"coastline approximation\" - 1)\n",
            "\n",
            "        The mean, standard error, and \"worst\" or largest (mean of the three\n",
            "        largest values) of these features were computed for each image,\n",
            "        resulting in 30 features.  For instance, field 3 is Mean Radius, field\n",
            "        13 is Radius SE, field 23 is Worst Radius.\n",
            "\n",
            "        - class:\n",
            "                - WDBC-Malignant\n",
            "                - WDBC-Benign\n",
            "\n",
            "    :Summary Statistics:\n",
            "\n",
            "    ===================================== ====== ======\n",
            "                                           Min    Max\n",
            "    ===================================== ====== ======\n",
            "    radius (mean):                        6.981  28.11\n",
            "    texture (mean):                       9.71   39.28\n",
            "    perimeter (mean):                     43.79  188.5\n",
            "    area (mean):                          143.5  2501.0\n",
            "    smoothness (mean):                    0.053  0.163\n",
            "    compactness (mean):                   0.019  0.345\n",
            "    concavity (mean):                     0.0    0.427\n",
            "    concave points (mean):                0.0    0.201\n",
            "    symmetry (mean):                      0.106  0.304\n",
            "    fractal dimension (mean):             0.05   0.097\n",
            "    radius (standard error):              0.112  2.873\n",
            "    texture (standard error):             0.36   4.885\n",
            "    perimeter (standard error):           0.757  21.98\n",
            "    area (standard error):                6.802  542.2\n",
            "    smoothness (standard error):          0.002  0.031\n",
            "    compactness (standard error):         0.002  0.135\n",
            "    concavity (standard error):           0.0    0.396\n",
            "    concave points (standard error):      0.0    0.053\n",
            "    symmetry (standard error):            0.008  0.079\n",
            "    fractal dimension (standard error):   0.001  0.03\n",
            "    radius (worst):                       7.93   36.04\n",
            "    texture (worst):                      12.02  49.54\n",
            "    perimeter (worst):                    50.41  251.2\n",
            "    area (worst):                         185.2  4254.0\n",
            "    smoothness (worst):                   0.071  0.223\n",
            "    compactness (worst):                  0.027  1.058\n",
            "    concavity (worst):                    0.0    1.252\n",
            "    concave points (worst):               0.0    0.291\n",
            "    symmetry (worst):                     0.156  0.664\n",
            "    fractal dimension (worst):            0.055  0.208\n",
            "    ===================================== ====== ======\n",
            "\n",
            "    :Missing Attribute Values: None\n",
            "\n",
            "    :Class Distribution: 212 - Malignant, 357 - Benign\n",
            "\n",
            "    :Creator:  Dr. William H. Wolberg, W. Nick Street, Olvi L. Mangasarian\n",
            "\n",
            "    :Donor: Nick Street\n",
            "\n",
            "    :Date: November, 1995\n",
            "\n",
            "This is a copy of UCI ML Breast Cancer Wisconsin (Diagnostic) datasets.\n",
            "https://goo.gl/U2Uwz2\n",
            "\n",
            "Features are computed from a digitized image of a fine needle\n",
            "aspirate (FNA) of a breast mass.  They describe\n",
            "characteristics of the cell nuclei present in the image.\n",
            "\n",
            "Separating plane described above was obtained using\n",
            "Multisurface Method-Tree (MSM-T) [K. P. Bennett, \"Decision Tree\n",
            "Construction Via Linear Programming.\" Proceedings of the 4th\n",
            "Midwest Artificial Intelligence and Cognitive Science Society,\n",
            "pp. 97-101, 1992], a classification method which uses linear\n",
            "programming to construct a decision tree.  Relevant features\n",
            "were selected using an exhaustive search in the space of 1-4\n",
            "features and 1-3 separating planes.\n",
            "\n",
            "The actual linear program used to obtain the separating plane\n",
            "in the 3-dimensional space is that described in:\n",
            "[K. P. Bennett and O. L. Mangasarian: \"Robust Linear\n",
            "Programming Discrimination of Two Linearly Inseparable Sets\",\n",
            "Optimization Methods and Software 1, 1992, 23-34].\n",
            "\n",
            "This database is also available through the UW CS ftp server:\n",
            "\n",
            "ftp ftp.cs.wisc.edu\n",
            "cd math-prog/cpo-dataset/machine-learn/WDBC/\n",
            "\n",
            ".. topic:: References\n",
            "\n",
            "   - W.N. Street, W.H. Wolberg and O.L. Mangasarian. Nuclear feature extraction \n",
            "     for breast tumor diagnosis. IS&T/SPIE 1993 International Symposium on \n",
            "     Electronic Imaging: Science and Technology, volume 1905, pages 861-870,\n",
            "     San Jose, CA, 1993.\n",
            "   - O.L. Mangasarian, W.N. Street and W.H. Wolberg. Breast cancer diagnosis and \n",
            "     prognosis via linear programming. Operations Research, 43(4), pages 570-577, \n",
            "     July-August 1995.\n",
            "   - W.H. Wolberg, W.N. Street, and O.L. Mangasarian. Machine learning techniques\n",
            "     to diagnose breast cancer from fine-needle aspirates. Cancer Letters 77 (1994) \n",
            "     163-171.\n"
          ],
          "name": "stdout"
        }
      ]
    },
    {
      "cell_type": "code",
      "metadata": {
        "id": "ADuP1yDtF1-x"
      },
      "source": [
        "# matrix of features\n",
        "x = pd.DataFrame(data = cancer.data, columns=cancer.feature_names)"
      ],
      "execution_count": 7,
      "outputs": []
    },
    {
      "cell_type": "code",
      "metadata": {
        "colab": {
          "base_uri": "https://localhost:8080/",
          "height": 258
        },
        "id": "YGWQHXxVGBWz",
        "outputId": "889ba1f1-d17a-4991-9a93-ec2d6762a7d7"
      },
      "source": [
        "x.head()"
      ],
      "execution_count": 8,
      "outputs": [
        {
          "output_type": "execute_result",
          "data": {
            "text/html": [
              "<div>\n",
              "<style scoped>\n",
              "    .dataframe tbody tr th:only-of-type {\n",
              "        vertical-align: middle;\n",
              "    }\n",
              "\n",
              "    .dataframe tbody tr th {\n",
              "        vertical-align: top;\n",
              "    }\n",
              "\n",
              "    .dataframe thead th {\n",
              "        text-align: right;\n",
              "    }\n",
              "</style>\n",
              "<table border=\"1\" class=\"dataframe\">\n",
              "  <thead>\n",
              "    <tr style=\"text-align: right;\">\n",
              "      <th></th>\n",
              "      <th>mean radius</th>\n",
              "      <th>mean texture</th>\n",
              "      <th>mean perimeter</th>\n",
              "      <th>mean area</th>\n",
              "      <th>mean smoothness</th>\n",
              "      <th>mean compactness</th>\n",
              "      <th>mean concavity</th>\n",
              "      <th>mean concave points</th>\n",
              "      <th>mean symmetry</th>\n",
              "      <th>mean fractal dimension</th>\n",
              "      <th>radius error</th>\n",
              "      <th>texture error</th>\n",
              "      <th>perimeter error</th>\n",
              "      <th>area error</th>\n",
              "      <th>smoothness error</th>\n",
              "      <th>compactness error</th>\n",
              "      <th>concavity error</th>\n",
              "      <th>concave points error</th>\n",
              "      <th>symmetry error</th>\n",
              "      <th>fractal dimension error</th>\n",
              "      <th>worst radius</th>\n",
              "      <th>worst texture</th>\n",
              "      <th>worst perimeter</th>\n",
              "      <th>worst area</th>\n",
              "      <th>worst smoothness</th>\n",
              "      <th>worst compactness</th>\n",
              "      <th>worst concavity</th>\n",
              "      <th>worst concave points</th>\n",
              "      <th>worst symmetry</th>\n",
              "      <th>worst fractal dimension</th>\n",
              "    </tr>\n",
              "  </thead>\n",
              "  <tbody>\n",
              "    <tr>\n",
              "      <th>0</th>\n",
              "      <td>17.99</td>\n",
              "      <td>10.38</td>\n",
              "      <td>122.80</td>\n",
              "      <td>1001.0</td>\n",
              "      <td>0.11840</td>\n",
              "      <td>0.27760</td>\n",
              "      <td>0.3001</td>\n",
              "      <td>0.14710</td>\n",
              "      <td>0.2419</td>\n",
              "      <td>0.07871</td>\n",
              "      <td>1.0950</td>\n",
              "      <td>0.9053</td>\n",
              "      <td>8.589</td>\n",
              "      <td>153.40</td>\n",
              "      <td>0.006399</td>\n",
              "      <td>0.04904</td>\n",
              "      <td>0.05373</td>\n",
              "      <td>0.01587</td>\n",
              "      <td>0.03003</td>\n",
              "      <td>0.006193</td>\n",
              "      <td>25.38</td>\n",
              "      <td>17.33</td>\n",
              "      <td>184.60</td>\n",
              "      <td>2019.0</td>\n",
              "      <td>0.1622</td>\n",
              "      <td>0.6656</td>\n",
              "      <td>0.7119</td>\n",
              "      <td>0.2654</td>\n",
              "      <td>0.4601</td>\n",
              "      <td>0.11890</td>\n",
              "    </tr>\n",
              "    <tr>\n",
              "      <th>1</th>\n",
              "      <td>20.57</td>\n",
              "      <td>17.77</td>\n",
              "      <td>132.90</td>\n",
              "      <td>1326.0</td>\n",
              "      <td>0.08474</td>\n",
              "      <td>0.07864</td>\n",
              "      <td>0.0869</td>\n",
              "      <td>0.07017</td>\n",
              "      <td>0.1812</td>\n",
              "      <td>0.05667</td>\n",
              "      <td>0.5435</td>\n",
              "      <td>0.7339</td>\n",
              "      <td>3.398</td>\n",
              "      <td>74.08</td>\n",
              "      <td>0.005225</td>\n",
              "      <td>0.01308</td>\n",
              "      <td>0.01860</td>\n",
              "      <td>0.01340</td>\n",
              "      <td>0.01389</td>\n",
              "      <td>0.003532</td>\n",
              "      <td>24.99</td>\n",
              "      <td>23.41</td>\n",
              "      <td>158.80</td>\n",
              "      <td>1956.0</td>\n",
              "      <td>0.1238</td>\n",
              "      <td>0.1866</td>\n",
              "      <td>0.2416</td>\n",
              "      <td>0.1860</td>\n",
              "      <td>0.2750</td>\n",
              "      <td>0.08902</td>\n",
              "    </tr>\n",
              "    <tr>\n",
              "      <th>2</th>\n",
              "      <td>19.69</td>\n",
              "      <td>21.25</td>\n",
              "      <td>130.00</td>\n",
              "      <td>1203.0</td>\n",
              "      <td>0.10960</td>\n",
              "      <td>0.15990</td>\n",
              "      <td>0.1974</td>\n",
              "      <td>0.12790</td>\n",
              "      <td>0.2069</td>\n",
              "      <td>0.05999</td>\n",
              "      <td>0.7456</td>\n",
              "      <td>0.7869</td>\n",
              "      <td>4.585</td>\n",
              "      <td>94.03</td>\n",
              "      <td>0.006150</td>\n",
              "      <td>0.04006</td>\n",
              "      <td>0.03832</td>\n",
              "      <td>0.02058</td>\n",
              "      <td>0.02250</td>\n",
              "      <td>0.004571</td>\n",
              "      <td>23.57</td>\n",
              "      <td>25.53</td>\n",
              "      <td>152.50</td>\n",
              "      <td>1709.0</td>\n",
              "      <td>0.1444</td>\n",
              "      <td>0.4245</td>\n",
              "      <td>0.4504</td>\n",
              "      <td>0.2430</td>\n",
              "      <td>0.3613</td>\n",
              "      <td>0.08758</td>\n",
              "    </tr>\n",
              "    <tr>\n",
              "      <th>3</th>\n",
              "      <td>11.42</td>\n",
              "      <td>20.38</td>\n",
              "      <td>77.58</td>\n",
              "      <td>386.1</td>\n",
              "      <td>0.14250</td>\n",
              "      <td>0.28390</td>\n",
              "      <td>0.2414</td>\n",
              "      <td>0.10520</td>\n",
              "      <td>0.2597</td>\n",
              "      <td>0.09744</td>\n",
              "      <td>0.4956</td>\n",
              "      <td>1.1560</td>\n",
              "      <td>3.445</td>\n",
              "      <td>27.23</td>\n",
              "      <td>0.009110</td>\n",
              "      <td>0.07458</td>\n",
              "      <td>0.05661</td>\n",
              "      <td>0.01867</td>\n",
              "      <td>0.05963</td>\n",
              "      <td>0.009208</td>\n",
              "      <td>14.91</td>\n",
              "      <td>26.50</td>\n",
              "      <td>98.87</td>\n",
              "      <td>567.7</td>\n",
              "      <td>0.2098</td>\n",
              "      <td>0.8663</td>\n",
              "      <td>0.6869</td>\n",
              "      <td>0.2575</td>\n",
              "      <td>0.6638</td>\n",
              "      <td>0.17300</td>\n",
              "    </tr>\n",
              "    <tr>\n",
              "      <th>4</th>\n",
              "      <td>20.29</td>\n",
              "      <td>14.34</td>\n",
              "      <td>135.10</td>\n",
              "      <td>1297.0</td>\n",
              "      <td>0.10030</td>\n",
              "      <td>0.13280</td>\n",
              "      <td>0.1980</td>\n",
              "      <td>0.10430</td>\n",
              "      <td>0.1809</td>\n",
              "      <td>0.05883</td>\n",
              "      <td>0.7572</td>\n",
              "      <td>0.7813</td>\n",
              "      <td>5.438</td>\n",
              "      <td>94.44</td>\n",
              "      <td>0.011490</td>\n",
              "      <td>0.02461</td>\n",
              "      <td>0.05688</td>\n",
              "      <td>0.01885</td>\n",
              "      <td>0.01756</td>\n",
              "      <td>0.005115</td>\n",
              "      <td>22.54</td>\n",
              "      <td>16.67</td>\n",
              "      <td>152.20</td>\n",
              "      <td>1575.0</td>\n",
              "      <td>0.1374</td>\n",
              "      <td>0.2050</td>\n",
              "      <td>0.4000</td>\n",
              "      <td>0.1625</td>\n",
              "      <td>0.2364</td>\n",
              "      <td>0.07678</td>\n",
              "    </tr>\n",
              "  </tbody>\n",
              "</table>\n",
              "</div>"
            ],
            "text/plain": [
              "   mean radius  mean texture  ...  worst symmetry  worst fractal dimension\n",
              "0        17.99         10.38  ...          0.4601                  0.11890\n",
              "1        20.57         17.77  ...          0.2750                  0.08902\n",
              "2        19.69         21.25  ...          0.3613                  0.08758\n",
              "3        11.42         20.38  ...          0.6638                  0.17300\n",
              "4        20.29         14.34  ...          0.2364                  0.07678\n",
              "\n",
              "[5 rows x 30 columns]"
            ]
          },
          "metadata": {
            "tags": []
          },
          "execution_count": 8
        }
      ]
    },
    {
      "cell_type": "code",
      "metadata": {
        "colab": {
          "base_uri": "https://localhost:8080/"
        },
        "id": "Ly8yH-pUGHKN",
        "outputId": "4b2928c9-ab7b-4400-d95c-ab98b3685734"
      },
      "source": [
        "# dependent variable\n",
        "y = cancer.target\n",
        "print(y)"
      ],
      "execution_count": 9,
      "outputs": [
        {
          "output_type": "stream",
          "text": [
            "[0 0 0 0 0 0 0 0 0 0 0 0 0 0 0 0 0 0 0 1 1 1 0 0 0 0 0 0 0 0 0 0 0 0 0 0 0\n",
            " 1 0 0 0 0 0 0 0 0 1 0 1 1 1 1 1 0 0 1 0 0 1 1 1 1 0 1 0 0 1 1 1 1 0 1 0 0\n",
            " 1 0 1 0 0 1 1 1 0 0 1 0 0 0 1 1 1 0 1 1 0 0 1 1 1 0 0 1 1 1 1 0 1 1 0 1 1\n",
            " 1 1 1 1 1 1 0 0 0 1 0 0 1 1 1 0 0 1 0 1 0 0 1 0 0 1 1 0 1 1 0 1 1 1 1 0 1\n",
            " 1 1 1 1 1 1 1 1 0 1 1 1 1 0 0 1 0 1 1 0 0 1 1 0 0 1 1 1 1 0 1 1 0 0 0 1 0\n",
            " 1 0 1 1 1 0 1 1 0 0 1 0 0 0 0 1 0 0 0 1 0 1 0 1 1 0 1 0 0 0 0 1 1 0 0 1 1\n",
            " 1 0 1 1 1 1 1 0 0 1 1 0 1 1 0 0 1 0 1 1 1 1 0 1 1 1 1 1 0 1 0 0 0 0 0 0 0\n",
            " 0 0 0 0 0 0 0 1 1 1 1 1 1 0 1 0 1 1 0 1 1 0 1 0 0 1 1 1 1 1 1 1 1 1 1 1 1\n",
            " 1 0 1 1 0 1 0 1 1 1 1 1 1 1 1 1 1 1 1 1 1 0 1 1 1 0 1 0 1 1 1 1 0 0 0 1 1\n",
            " 1 1 0 1 0 1 0 1 1 1 0 1 1 1 1 1 1 1 0 0 0 1 1 1 1 1 1 1 1 1 1 1 0 0 1 0 0\n",
            " 0 1 0 0 1 1 1 1 1 0 1 1 1 1 1 0 1 1 1 0 1 1 0 0 1 1 1 1 1 1 0 1 1 1 1 1 1\n",
            " 1 0 1 1 1 1 1 0 1 1 0 1 1 1 1 1 1 1 1 1 1 1 1 0 1 0 0 1 0 1 1 1 1 1 0 1 1\n",
            " 0 1 0 1 1 0 1 0 1 1 1 1 1 1 1 1 0 0 1 1 1 1 1 1 0 1 1 1 1 1 1 1 1 1 1 0 1\n",
            " 1 1 1 1 1 1 0 1 0 1 1 0 1 1 1 1 1 0 0 1 0 1 0 1 1 1 1 1 0 1 1 0 1 0 1 0 0\n",
            " 1 1 1 0 1 1 1 1 1 1 1 1 1 1 1 0 1 0 0 1 1 1 1 1 1 1 1 1 1 1 1 1 1 1 1 1 1\n",
            " 1 1 1 1 1 1 1 0 0 0 0 0 0 1]\n"
          ],
          "name": "stdout"
        }
      ]
    },
    {
      "cell_type": "code",
      "metadata": {
        "colab": {
          "base_uri": "https://localhost:8080/"
        },
        "id": "jnvWLCxNGL6f",
        "outputId": "01705267-045a-42a2-c9eb-63fd4f2b6ac6"
      },
      "source": [
        "cancer.target_names"
      ],
      "execution_count": 10,
      "outputs": [
        {
          "output_type": "execute_result",
          "data": {
            "text/plain": [
              "array(['malignant', 'benign'], dtype='<U9')"
            ]
          },
          "metadata": {
            "tags": []
          },
          "execution_count": 10
        }
      ]
    },
    {
      "cell_type": "code",
      "metadata": {
        "colab": {
          "base_uri": "https://localhost:8080/"
        },
        "id": "fwisyP-oGSmo",
        "outputId": "239ea7c7-1d1f-4c74-e2e3-0d44fb70036b"
      },
      "source": [
        "x.shape, y.shape"
      ],
      "execution_count": 11,
      "outputs": [
        {
          "output_type": "execute_result",
          "data": {
            "text/plain": [
              "((569, 30), (569,))"
            ]
          },
          "metadata": {
            "tags": []
          },
          "execution_count": 11
        }
      ]
    },
    {
      "cell_type": "code",
      "metadata": {
        "id": "00blW60VGW-8"
      },
      "source": [
        "# splitting the dataset in train and test set\n",
        "from sklearn.model_selection import train_test_split\n",
        "x_train, x_test, y_train, y_test = train_test_split(x, y, test_size = 0.2, random_state = 0)"
      ],
      "execution_count": 12,
      "outputs": []
    },
    {
      "cell_type": "code",
      "metadata": {
        "colab": {
          "base_uri": "https://localhost:8080/"
        },
        "id": "90K4t_pQGbtr",
        "outputId": "59280c22-0043-4144-b652-07f79e1c73ba"
      },
      "source": [
        "x_train.shape, x_test.shape"
      ],
      "execution_count": 13,
      "outputs": [
        {
          "output_type": "execute_result",
          "data": {
            "text/plain": [
              "((455, 30), (114, 30))"
            ]
          },
          "metadata": {
            "tags": []
          },
          "execution_count": 13
        }
      ]
    },
    {
      "cell_type": "code",
      "metadata": {
        "id": "aZNOQRVbGfh7"
      },
      "source": [
        "# feature scaling\n",
        "from sklearn.preprocessing import StandardScaler\n",
        "sc = StandardScaler()\n",
        "x_train = sc.fit_transform(x_train)\n",
        "x_test = sc.transform(x_test)"
      ],
      "execution_count": 14,
      "outputs": []
    },
    {
      "cell_type": "code",
      "metadata": {
        "colab": {
          "base_uri": "https://localhost:8080/"
        },
        "id": "gfCBJe-tGkMo",
        "outputId": "23370aa7-fc98-4926-f9a0-52325866f3bd"
      },
      "source": [
        "x_train"
      ],
      "execution_count": 15,
      "outputs": [
        {
          "output_type": "execute_result",
          "data": {
            "text/plain": [
              "array([[-1.15036482, -0.39064196, -1.12855021, ..., -0.75798367,\n",
              "        -0.01614761, -0.38503402],\n",
              "       [-0.93798972,  0.68051405, -0.94820146, ..., -0.60687023,\n",
              "         0.09669004, -0.38615797],\n",
              "       [ 0.574121  , -1.03333557,  0.51394098, ..., -0.02371948,\n",
              "        -0.20050207, -0.75144254],\n",
              "       ...,\n",
              "       [-1.32422924, -0.20048168, -1.31754581, ..., -0.97974953,\n",
              "        -0.71542314, -0.11978123],\n",
              "       [-1.24380987, -0.2245526 , -1.28007609, ..., -1.75401433,\n",
              "        -1.58157125, -1.00601779],\n",
              "       [-0.73694129,  1.14989702, -0.71226578, ..., -0.27460457,\n",
              "        -1.25895095,  0.21515662]])"
            ]
          },
          "metadata": {
            "tags": []
          },
          "execution_count": 15
        }
      ]
    },
    {
      "cell_type": "code",
      "metadata": {
        "colab": {
          "base_uri": "https://localhost:8080/"
        },
        "id": "CZGavlWiGpM6",
        "outputId": "1c408985-a3bb-4301-a511-5816d188b48d"
      },
      "source": [
        "x_train.shape, x_test.shape"
      ],
      "execution_count": 16,
      "outputs": [
        {
          "output_type": "execute_result",
          "data": {
            "text/plain": [
              "((455, 30), (114, 30))"
            ]
          },
          "metadata": {
            "tags": []
          },
          "execution_count": 16
        }
      ]
    },
    {
      "cell_type": "code",
      "metadata": {
        "id": "1Vf-PCdEGq-S"
      },
      "source": [
        "x_train = x_train.reshape(455, 30, 1)\n",
        "x_test = x_test.reshape(114, 30, 1)"
      ],
      "execution_count": 17,
      "outputs": []
    },
    {
      "cell_type": "code",
      "metadata": {
        "colab": {
          "base_uri": "https://localhost:8080/"
        },
        "id": "vO7FL19qGwXU",
        "outputId": "d78ae4f9-c6ef-4190-8300-d7c8acdcecc0"
      },
      "source": [
        "x_train.shape, x_test.shape"
      ],
      "execution_count": 18,
      "outputs": [
        {
          "output_type": "execute_result",
          "data": {
            "text/plain": [
              "((455, 30, 1), (114, 30, 1))"
            ]
          },
          "metadata": {
            "tags": []
          },
          "execution_count": 18
        }
      ]
    },
    {
      "cell_type": "markdown",
      "metadata": {
        "id": "gsyHsEFWG6Ei"
      },
      "source": [
        "**Step 3: Building the model**"
      ]
    },
    {
      "cell_type": "code",
      "metadata": {
        "id": "N6K8EhhFGzHH"
      },
      "source": [
        "# define an object\n",
        "model = tf.keras.models.Sequential()"
      ],
      "execution_count": 19,
      "outputs": []
    },
    {
      "cell_type": "code",
      "metadata": {
        "id": "25mxXsvrG_2Q"
      },
      "source": [
        "# First CNN layer\n",
        "model.add(tf.keras.layers.Conv1D(filters=32, kernel_size=2, activation='relu', input_shape = (30, 1)))\n",
        "\n",
        "# batch normalization\n",
        "model.add(tf.keras.layers.BatchNormalization())\n",
        "\n",
        "# dropout layer\n",
        "model.add(tf.keras.layers.Dropout(0.2))"
      ],
      "execution_count": 20,
      "outputs": []
    },
    {
      "cell_type": "code",
      "metadata": {
        "id": "Bazj15GYHEow"
      },
      "source": [
        "# second CNN layer\n",
        "model.add(tf.keras.layers.Conv1D(filters=64, kernel_size=2, activation='relu'))\n",
        "\n",
        "# batch normalization\n",
        "model.add(tf.keras.layers.BatchNormalization())\n",
        "\n",
        "# dropout layer\n",
        "model.add(tf.keras.layers.Dropout(0.4))"
      ],
      "execution_count": 21,
      "outputs": []
    },
    {
      "cell_type": "code",
      "metadata": {
        "id": "zfUwaJD4HIZ2"
      },
      "source": [
        "# flatten layer\n",
        "model.add(tf.keras.layers.Flatten())"
      ],
      "execution_count": 22,
      "outputs": []
    },
    {
      "cell_type": "code",
      "metadata": {
        "id": "uNMa_oAWHNrX"
      },
      "source": [
        "# dense layer\n",
        "model.add(tf.keras.layers.Dense(units=64, activation='relu'))\n",
        "\n",
        "# output layer\n",
        "model.add(tf.keras.layers.Dense(units=1, activation='sigmoid'))"
      ],
      "execution_count": 23,
      "outputs": []
    },
    {
      "cell_type": "code",
      "metadata": {
        "colab": {
          "base_uri": "https://localhost:8080/"
        },
        "id": "eOZ6d-MeHSsM",
        "outputId": "14a8ff0a-57ba-4335-9ed6-d285d39eabe4"
      },
      "source": [
        "model.summary()"
      ],
      "execution_count": 24,
      "outputs": [
        {
          "output_type": "stream",
          "text": [
            "Model: \"sequential\"\n",
            "_________________________________________________________________\n",
            "Layer (type)                 Output Shape              Param #   \n",
            "=================================================================\n",
            "conv1d (Conv1D)              (None, 29, 32)            96        \n",
            "_________________________________________________________________\n",
            "batch_normalization (BatchNo (None, 29, 32)            128       \n",
            "_________________________________________________________________\n",
            "dropout (Dropout)            (None, 29, 32)            0         \n",
            "_________________________________________________________________\n",
            "conv1d_1 (Conv1D)            (None, 28, 64)            4160      \n",
            "_________________________________________________________________\n",
            "batch_normalization_1 (Batch (None, 28, 64)            256       \n",
            "_________________________________________________________________\n",
            "dropout_1 (Dropout)          (None, 28, 64)            0         \n",
            "_________________________________________________________________\n",
            "flatten (Flatten)            (None, 1792)              0         \n",
            "_________________________________________________________________\n",
            "dense (Dense)                (None, 64)                114752    \n",
            "_________________________________________________________________\n",
            "dense_1 (Dense)              (None, 1)                 65        \n",
            "=================================================================\n",
            "Total params: 119,457\n",
            "Trainable params: 119,265\n",
            "Non-trainable params: 192\n",
            "_________________________________________________________________\n"
          ],
          "name": "stdout"
        }
      ]
    },
    {
      "cell_type": "code",
      "metadata": {
        "id": "tBud8He6HZZW"
      },
      "source": [
        "# compile model\n",
        "\n",
        "opt = tf.keras.optimizers.Adam(learning_rate=0.00005)\n",
        "\n",
        "model.compile(optimizer=opt, loss='binary_crossentropy', metrics=['accuracy'])"
      ],
      "execution_count": 25,
      "outputs": []
    },
    {
      "cell_type": "markdown",
      "metadata": {
        "id": "B-H-HJIQHeuB"
      },
      "source": [
        "**Step 4: Training the model**"
      ]
    },
    {
      "cell_type": "code",
      "metadata": {
        "colab": {
          "base_uri": "https://localhost:8080/"
        },
        "id": "9sHC1MZoHfKs",
        "outputId": "f72082b8-e82a-4d66-8e2e-2704989ff437"
      },
      "source": [
        "history =  model.fit(x_train, y_train, epochs=50, validation_data=(x_test, y_test))"
      ],
      "execution_count": 26,
      "outputs": [
        {
          "output_type": "stream",
          "text": [
            "Epoch 1/50\n",
            "15/15 [==============================] - 2s 47ms/step - loss: 0.8569 - accuracy: 0.5687 - val_loss: 0.6344 - val_accuracy: 0.8158\n",
            "Epoch 2/50\n",
            "15/15 [==============================] - 0s 10ms/step - loss: 0.5238 - accuracy: 0.7292 - val_loss: 0.5880 - val_accuracy: 0.9123\n",
            "Epoch 3/50\n",
            "15/15 [==============================] - 0s 10ms/step - loss: 0.3889 - accuracy: 0.8425 - val_loss: 0.5463 - val_accuracy: 0.9211\n",
            "Epoch 4/50\n",
            "15/15 [==============================] - 0s 10ms/step - loss: 0.2811 - accuracy: 0.9033 - val_loss: 0.5123 - val_accuracy: 0.8684\n",
            "Epoch 5/50\n",
            "15/15 [==============================] - 0s 10ms/step - loss: 0.2229 - accuracy: 0.9206 - val_loss: 0.4817 - val_accuracy: 0.8333\n",
            "Epoch 6/50\n",
            "15/15 [==============================] - 0s 10ms/step - loss: 0.2429 - accuracy: 0.9061 - val_loss: 0.4549 - val_accuracy: 0.8246\n",
            "Epoch 7/50\n",
            "15/15 [==============================] - 0s 9ms/step - loss: 0.1987 - accuracy: 0.9329 - val_loss: 0.4298 - val_accuracy: 0.8246\n",
            "Epoch 8/50\n",
            "15/15 [==============================] - 0s 11ms/step - loss: 0.1814 - accuracy: 0.9195 - val_loss: 0.4090 - val_accuracy: 0.8246\n",
            "Epoch 9/50\n",
            "15/15 [==============================] - 0s 10ms/step - loss: 0.1464 - accuracy: 0.9476 - val_loss: 0.3887 - val_accuracy: 0.8246\n",
            "Epoch 10/50\n",
            "15/15 [==============================] - 0s 11ms/step - loss: 0.1610 - accuracy: 0.9329 - val_loss: 0.3695 - val_accuracy: 0.8246\n",
            "Epoch 11/50\n",
            "15/15 [==============================] - 0s 12ms/step - loss: 0.1328 - accuracy: 0.9442 - val_loss: 0.3525 - val_accuracy: 0.8246\n",
            "Epoch 12/50\n",
            "15/15 [==============================] - 0s 10ms/step - loss: 0.1403 - accuracy: 0.9537 - val_loss: 0.3317 - val_accuracy: 0.8421\n",
            "Epoch 13/50\n",
            "15/15 [==============================] - 0s 10ms/step - loss: 0.1438 - accuracy: 0.9427 - val_loss: 0.3098 - val_accuracy: 0.8509\n",
            "Epoch 14/50\n",
            "15/15 [==============================] - 0s 10ms/step - loss: 0.1112 - accuracy: 0.9666 - val_loss: 0.2956 - val_accuracy: 0.8596\n",
            "Epoch 15/50\n",
            "15/15 [==============================] - 0s 10ms/step - loss: 0.1202 - accuracy: 0.9470 - val_loss: 0.2757 - val_accuracy: 0.8684\n",
            "Epoch 16/50\n",
            "15/15 [==============================] - 0s 11ms/step - loss: 0.0914 - accuracy: 0.9710 - val_loss: 0.2603 - val_accuracy: 0.8684\n",
            "Epoch 17/50\n",
            "15/15 [==============================] - 0s 10ms/step - loss: 0.1086 - accuracy: 0.9668 - val_loss: 0.2459 - val_accuracy: 0.8860\n",
            "Epoch 18/50\n",
            "15/15 [==============================] - 0s 12ms/step - loss: 0.0954 - accuracy: 0.9725 - val_loss: 0.2299 - val_accuracy: 0.8860\n",
            "Epoch 19/50\n",
            "15/15 [==============================] - 0s 11ms/step - loss: 0.1209 - accuracy: 0.9452 - val_loss: 0.2172 - val_accuracy: 0.8947\n",
            "Epoch 20/50\n",
            "15/15 [==============================] - 0s 10ms/step - loss: 0.0891 - accuracy: 0.9710 - val_loss: 0.2044 - val_accuracy: 0.9211\n",
            "Epoch 21/50\n",
            "15/15 [==============================] - 0s 12ms/step - loss: 0.1042 - accuracy: 0.9601 - val_loss: 0.1914 - val_accuracy: 0.9211\n",
            "Epoch 22/50\n",
            "15/15 [==============================] - 0s 11ms/step - loss: 0.0975 - accuracy: 0.9604 - val_loss: 0.1758 - val_accuracy: 0.9211\n",
            "Epoch 23/50\n",
            "15/15 [==============================] - 0s 10ms/step - loss: 0.1315 - accuracy: 0.9554 - val_loss: 0.1685 - val_accuracy: 0.9211\n",
            "Epoch 24/50\n",
            "15/15 [==============================] - 0s 10ms/step - loss: 0.0990 - accuracy: 0.9692 - val_loss: 0.1641 - val_accuracy: 0.9298\n",
            "Epoch 25/50\n",
            "15/15 [==============================] - 0s 10ms/step - loss: 0.0800 - accuracy: 0.9618 - val_loss: 0.1543 - val_accuracy: 0.9298\n",
            "Epoch 26/50\n",
            "15/15 [==============================] - 0s 10ms/step - loss: 0.0922 - accuracy: 0.9656 - val_loss: 0.1489 - val_accuracy: 0.9386\n",
            "Epoch 27/50\n",
            "15/15 [==============================] - 0s 11ms/step - loss: 0.0758 - accuracy: 0.9726 - val_loss: 0.1407 - val_accuracy: 0.9386\n",
            "Epoch 28/50\n",
            "15/15 [==============================] - 0s 11ms/step - loss: 0.0872 - accuracy: 0.9682 - val_loss: 0.1306 - val_accuracy: 0.9474\n",
            "Epoch 29/50\n",
            "15/15 [==============================] - 0s 11ms/step - loss: 0.0733 - accuracy: 0.9794 - val_loss: 0.1214 - val_accuracy: 0.9474\n",
            "Epoch 30/50\n",
            "15/15 [==============================] - 0s 10ms/step - loss: 0.0963 - accuracy: 0.9533 - val_loss: 0.1162 - val_accuracy: 0.9474\n",
            "Epoch 31/50\n",
            "15/15 [==============================] - 0s 12ms/step - loss: 0.1107 - accuracy: 0.9665 - val_loss: 0.1105 - val_accuracy: 0.9561\n",
            "Epoch 32/50\n",
            "15/15 [==============================] - 0s 10ms/step - loss: 0.0802 - accuracy: 0.9740 - val_loss: 0.1044 - val_accuracy: 0.9561\n",
            "Epoch 33/50\n",
            "15/15 [==============================] - 0s 10ms/step - loss: 0.0691 - accuracy: 0.9777 - val_loss: 0.1006 - val_accuracy: 0.9561\n",
            "Epoch 34/50\n",
            "15/15 [==============================] - 0s 10ms/step - loss: 0.0986 - accuracy: 0.9546 - val_loss: 0.0973 - val_accuracy: 0.9561\n",
            "Epoch 35/50\n",
            "15/15 [==============================] - 0s 9ms/step - loss: 0.0594 - accuracy: 0.9857 - val_loss: 0.0925 - val_accuracy: 0.9649\n",
            "Epoch 36/50\n",
            "15/15 [==============================] - 0s 9ms/step - loss: 0.0671 - accuracy: 0.9834 - val_loss: 0.0869 - val_accuracy: 0.9649\n",
            "Epoch 37/50\n",
            "15/15 [==============================] - 0s 10ms/step - loss: 0.0852 - accuracy: 0.9669 - val_loss: 0.0829 - val_accuracy: 0.9649\n",
            "Epoch 38/50\n",
            "15/15 [==============================] - 0s 9ms/step - loss: 0.0837 - accuracy: 0.9674 - val_loss: 0.0801 - val_accuracy: 0.9649\n",
            "Epoch 39/50\n",
            "15/15 [==============================] - 0s 10ms/step - loss: 0.0703 - accuracy: 0.9787 - val_loss: 0.0758 - val_accuracy: 0.9649\n",
            "Epoch 40/50\n",
            "15/15 [==============================] - 0s 10ms/step - loss: 0.0724 - accuracy: 0.9808 - val_loss: 0.0736 - val_accuracy: 0.9737\n",
            "Epoch 41/50\n",
            "15/15 [==============================] - 0s 10ms/step - loss: 0.0422 - accuracy: 0.9849 - val_loss: 0.0713 - val_accuracy: 0.9737\n",
            "Epoch 42/50\n",
            "15/15 [==============================] - 0s 10ms/step - loss: 0.0561 - accuracy: 0.9767 - val_loss: 0.0691 - val_accuracy: 0.9737\n",
            "Epoch 43/50\n",
            "15/15 [==============================] - 0s 10ms/step - loss: 0.0582 - accuracy: 0.9796 - val_loss: 0.0733 - val_accuracy: 0.9737\n",
            "Epoch 44/50\n",
            "15/15 [==============================] - 0s 10ms/step - loss: 0.0520 - accuracy: 0.9809 - val_loss: 0.0724 - val_accuracy: 0.9737\n",
            "Epoch 45/50\n",
            "15/15 [==============================] - 0s 9ms/step - loss: 0.0523 - accuracy: 0.9855 - val_loss: 0.0706 - val_accuracy: 0.9737\n",
            "Epoch 46/50\n",
            "15/15 [==============================] - 0s 9ms/step - loss: 0.0501 - accuracy: 0.9903 - val_loss: 0.0679 - val_accuracy: 0.9737\n",
            "Epoch 47/50\n",
            "15/15 [==============================] - 0s 11ms/step - loss: 0.0649 - accuracy: 0.9725 - val_loss: 0.0641 - val_accuracy: 0.9737\n",
            "Epoch 48/50\n",
            "15/15 [==============================] - 0s 9ms/step - loss: 0.0890 - accuracy: 0.9588 - val_loss: 0.0613 - val_accuracy: 0.9737\n",
            "Epoch 49/50\n",
            "15/15 [==============================] - 0s 10ms/step - loss: 0.0596 - accuracy: 0.9760 - val_loss: 0.0585 - val_accuracy: 0.9737\n",
            "Epoch 50/50\n",
            "15/15 [==============================] - 0s 12ms/step - loss: 0.0582 - accuracy: 0.9756 - val_loss: 0.0583 - val_accuracy: 0.9737\n"
          ],
          "name": "stdout"
        }
      ]
    },
    {
      "cell_type": "markdown",
      "metadata": {
        "id": "CUbvTxyrH2cx"
      },
      "source": [
        "**Step 5: Model Prediction**"
      ]
    },
    {
      "cell_type": "code",
      "metadata": {
        "colab": {
          "base_uri": "https://localhost:8080/"
        },
        "id": "A2K6XI3rH4sS",
        "outputId": "47b40aff-cc3b-478d-f613-4e88df573bb8"
      },
      "source": [
        "y_pred = model.predict_classes(x_test)"
      ],
      "execution_count": 28,
      "outputs": [
        {
          "output_type": "stream",
          "text": [
            "/usr/local/lib/python3.7/dist-packages/tensorflow/python/keras/engine/sequential.py:450: UserWarning: `model.predict_classes()` is deprecated and will be removed after 2021-01-01. Please use instead:* `np.argmax(model.predict(x), axis=-1)`,   if your model does multi-class classification   (e.g. if it uses a `softmax` last-layer activation).* `(model.predict(x) > 0.5).astype(\"int32\")`,   if your model does binary classification   (e.g. if it uses a `sigmoid` last-layer activation).\n",
            "  warnings.warn('`model.predict_classes()` is deprecated and '\n"
          ],
          "name": "stderr"
        }
      ]
    },
    {
      "cell_type": "code",
      "metadata": {
        "colab": {
          "base_uri": "https://localhost:8080/"
        },
        "id": "dUm6PPrGIBlL",
        "outputId": "987a1b65-cb32-4aba-fbf4-a3fec0eb2bf0"
      },
      "source": [
        "# predictions\n",
        "\n",
        "print(y_pred[:30]), print(y_test[:30])"
      ],
      "execution_count": 29,
      "outputs": [
        {
          "output_type": "stream",
          "text": [
            "[[0]\n",
            " [1]\n",
            " [1]\n",
            " [1]\n",
            " [1]\n",
            " [1]\n",
            " [1]\n",
            " [1]\n",
            " [1]\n",
            " [1]\n",
            " [1]\n",
            " [1]\n",
            " [1]\n",
            " [1]\n",
            " [1]\n",
            " [0]\n",
            " [1]\n",
            " [0]\n",
            " [0]\n",
            " [0]\n",
            " [0]\n",
            " [0]\n",
            " [1]\n",
            " [1]\n",
            " [0]\n",
            " [1]\n",
            " [1]\n",
            " [0]\n",
            " [1]\n",
            " [0]]\n",
            "[0 1 1 1 1 1 1 1 1 1 1 1 1 1 1 0 1 0 0 0 0 0 1 1 0 1 1 0 1 0]\n"
          ],
          "name": "stdout"
        },
        {
          "output_type": "execute_result",
          "data": {
            "text/plain": [
              "(None, None)"
            ]
          },
          "metadata": {
            "tags": []
          },
          "execution_count": 29
        }
      ]
    },
    {
      "cell_type": "code",
      "metadata": {
        "colab": {
          "base_uri": "https://localhost:8080/"
        },
        "id": "0FmEFSoaIEH2",
        "outputId": "efabc8c6-c258-4f54-e555-6f268d744334"
      },
      "source": [
        "cancer.target_names"
      ],
      "execution_count": 30,
      "outputs": [
        {
          "output_type": "execute_result",
          "data": {
            "text/plain": [
              "array(['malignant', 'benign'], dtype='<U9')"
            ]
          },
          "metadata": {
            "tags": []
          },
          "execution_count": 30
        }
      ]
    },
    {
      "cell_type": "code",
      "metadata": {
        "colab": {
          "base_uri": "https://localhost:8080/"
        },
        "id": "G6wXmoBCIJxX",
        "outputId": "40cf9351-7a16-409c-dbee-8fd216363fa1"
      },
      "source": [
        "# confusion matrix\n",
        "from sklearn.metrics import confusion_matrix, accuracy_score\n",
        "cm = confusion_matrix(y_test, y_pred)\n",
        "print(cm)"
      ],
      "execution_count": 31,
      "outputs": [
        {
          "output_type": "stream",
          "text": [
            "[[44  3]\n",
            " [ 0 67]]\n"
          ],
          "name": "stdout"
        }
      ]
    },
    {
      "cell_type": "code",
      "metadata": {
        "colab": {
          "base_uri": "https://localhost:8080/"
        },
        "id": "9TeBd6ToIM6G",
        "outputId": "5795e5af-4a22-49c1-ea91-ea5aa1313294"
      },
      "source": [
        "acc_cm = accuracy_score(y_test, y_pred)\n",
        "print(acc_cm)"
      ],
      "execution_count": 32,
      "outputs": [
        {
          "output_type": "stream",
          "text": [
            "0.9736842105263158\n"
          ],
          "name": "stdout"
        }
      ]
    },
    {
      "cell_type": "markdown",
      "metadata": {
        "id": "sYn99NfSIZt1"
      },
      "source": [
        "**Step 6 : Learning curve**"
      ]
    },
    {
      "cell_type": "code",
      "metadata": {
        "id": "TstA_QXtIUA5"
      },
      "source": [
        "def learning_curve(history, epoch):\n",
        "\n",
        "  # training vs validation accuracy\n",
        "  epoch_range = range(1, epoch+1)\n",
        "  plt.plot(epoch_range, history.history['accuracy'])\n",
        "  plt.plot(epoch_range, history.history['val_accuracy'])\n",
        "  plt.title('Model Accuracy')\n",
        "  plt.ylabel('Accuracy')\n",
        "  plt.xlabel('Epoch')\n",
        "  plt.legend(['Train', 'val'], loc='upper left')\n",
        "  plt.show()\n",
        "\n",
        "  # training vs validation loss\n",
        "  plt.plot(epoch_range, history.history['loss'])\n",
        "  plt.plot(epoch_range, history.history['val_loss'])\n",
        "  plt.title('Model Loss')\n",
        "  plt.ylabel('Loss')\n",
        "  plt.xlabel('Epoch')\n",
        "  plt.legend(['Train', 'val'], loc='upper left')\n",
        "  plt.show()"
      ],
      "execution_count": 33,
      "outputs": []
    },
    {
      "cell_type": "code",
      "metadata": {
        "colab": {
          "base_uri": "https://localhost:8080/",
          "height": 573
        },
        "id": "iN1_Fs22IgzR",
        "outputId": "f8d24fad-f214-498e-dfd5-321663dd283c"
      },
      "source": [
        "learning_curve(history, 50)"
      ],
      "execution_count": 34,
      "outputs": [
        {
          "output_type": "display_data",
          "data": {
            "image/png": "[encoded data removed]",
            "text/plain": [
              "<Figure size 432x288 with 1 Axes>"
            ]
          },
          "metadata": {
            "tags": [],
            "needs_background": "light"
          }
        },
        {
          "output_type": "display_data",
          "data": {
            "image/png": "[encoded data removed]",
            "text/plain": [
              "<Figure size 432x288 with 1 Axes>"
            ]
          },
          "metadata": {
            "tags": [],
            "needs_background": "light"
          }
        }
      ]
    }
  ]
}
